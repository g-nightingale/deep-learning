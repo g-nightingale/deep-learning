version https://git-lfs.github.com/spec/v1
oid sha256:f01c1154d50164a6e0c9484872b4501255c4bfc9cc01d8a481f1c0f4ee2f66ba
size 1797841
