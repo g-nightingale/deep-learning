version https://git-lfs.github.com/spec/v1
oid sha256:fa77525547388eb509b4a4cfb5d1595e85cf792ed844ffee4664c65d88fc5c6b
size 347100
