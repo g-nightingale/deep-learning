version https://git-lfs.github.com/spec/v1
oid sha256:e4430279059341218e4b5a332921239bdc2c8a7a868074a63fb40cbb5e06f6ad
size 272558
